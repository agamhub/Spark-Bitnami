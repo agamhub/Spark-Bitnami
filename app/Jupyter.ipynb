{
 "cells": [
  {
   "cell_type": "code",
   "execution_count": 5,
   "metadata": {},
   "outputs": [
    {
     "name": "stdout",
     "output_type": "stream",
     "text": [
      "{'Total Record Count': 'SELECT COUNT(1) FROM __TABLE__', 'Count where a = 1': 'SELECT COUNT(1) FROM __TABLE__ WHERE a = 1', \"Count where b = 'value'\": \"SELECT COUNT(1) FROM __TABLE__ WHERE b = 'value'\", 'Sum of column c': 'SELECT SUM(c) FROM __TABLE__'}\n",
      "Total Record Count\n",
      "Count where a = 1\n",
      "Count where b = 'value'\n",
      "Sum of column c\n"
     ]
    }
   ],
   "source": [
    "checks = {\n",
    "        \"Total Record Count\": \"SELECT COUNT(1) FROM __TABLE__\",\n",
    "        \"Count where a = 1\": \"SELECT COUNT(1) FROM __TABLE__ WHERE a = 1\",\n",
    "        \"Count where b = 'value'\": \"SELECT COUNT(1) FROM __TABLE__ WHERE b = 'value'\",\n",
    "        \"Sum of column c\": \"SELECT SUM(c) FROM __TABLE__\",\n",
    "    }\n",
    "print(checks)\n",
    "for x, x in checks.items():\n",
    "    print(x)\n"
   ]
  }
 ],
 "metadata": {
  "kernelspec": {
   "display_name": "Python 3 (ipykernel)",
   "language": "python",
   "name": "python3"
  },
  "language_info": {
   "codemirror_mode": {
    "name": "ipython",
    "version": 3
   },
   "file_extension": ".py",
   "mimetype": "text/x-python",
   "name": "python",
   "nbconvert_exporter": "python",
   "pygments_lexer": "ipython3",
   "version": "3.12.8"
  }
 },
 "nbformat": 4,
 "nbformat_minor": 2
}
