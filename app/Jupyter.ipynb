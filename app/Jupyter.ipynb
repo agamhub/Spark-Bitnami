{
 "cells": [
  {
   "cell_type": "code",
   "execution_count": 5,
   "metadata": {},
   "outputs": [
    {
     "ename": "",
     "evalue": "",
     "output_type": "error",
     "traceback": [
      "\u001b[1;31mFailed to connect to the remote Jupyter Server 'http://localhost:8888/'. Verify the server is running and reachable. ('_xsrf' argument missing from POST)."
     ]
    }
   ],
   "source": [
    "checks = {\n",
    "        \"Total Record Count\": \"SELECT COUNT(1) FROM __TABLE__\",\n",
    "        \"Count where a = 1\": \"SELECT COUNT(1) FROM __TABLE__ WHERE a = 1\",\n",
    "        \"Count where b = 'value'\": \"SELECT COUNT(1) FROM __TABLE__ WHERE b = 'value'\",\n",
    "        \"Sum of column c\": \"SELECT SUM(c) FROM __TABLE__\",\n",
    "    }\n",
    "print(checks)\n",
    "for x, x in checks.items():\n",
    "    print(x)\n"
   ]
  }
 ],
 "metadata": {
  "kernelspec": {
   "display_name": "Python 3 (ipykernel)",
   "language": "python",
   "name": "python3"
  }
 },
 "nbformat": 4,
 "nbformat_minor": 2
}
