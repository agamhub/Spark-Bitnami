{
 "cells": [
  {
   "cell_type": "code",
   "execution_count": 1,
   "metadata": {},
   "outputs": [
    {
     "ename": "",
     "evalue": "",
     "output_type": "error",
     "traceback": [
      "\u001b[1;31mFailed to connect to the remote Jupyter Server 'http://localhost:8888/'. Verify the server is running and reachable. ('_xsrf' argument missing from POST)."
     ]
    }
   ],
   "source": [
    "import sys\n",
    "from random import random\n",
    "from operator import add\n",
    " \n",
    "from pyspark.sql import SparkSession\n",
    " \n",
    "if __name__ == \"__main__\":\n",
    "    \"\"\"\n",
    "        Usage: pi [partitions]\n",
    "    \"\"\"\n",
    "    spark = SparkSession\\\n",
    "        .builder\\\n",
    "        .appName(\"PythonPi\")\\\n",
    "        .getOrCreate()\n",
    " \n",
    "    data = [\n",
    "        (1,\"Agam\"),\n",
    "        (2,\"Lorita\")\n",
    "    ]\n",
    "\n",
    "    columns = [\"Id\",\"Name\"]\n",
    "\n",
    "    # Create DataFrame\n",
    "    df = spark.createDataFrame(data, columns)\n",
    "    df.show()\n",
    "    \n",
    "    spark.stop()"
   ]
  },
  {
   "cell_type": "code",
   "execution_count": null,
   "metadata": {},
   "outputs": [],
   "source": [
    "import pandas as pd\n",
    "\n",
    "json_data = '''\n",
    "[\n",
    "    {\"name\": \"Alice\", \"age\": 25},\n",
    "    {\"name\": \"Bob\", \"age\": 30},\n",
    "    {\"name\": \"Charlie\", \"age\": 35}\n",
    "]\n",
    "'''\n",
    "\n",
    "df = pd.read_json(json_data, orient='records', dtype={'age': 'float64'})\n",
    "print(df)"
   ]
  },
  {
   "cell_type": "code",
   "execution_count": null,
   "metadata": {},
   "outputs": [],
   "source": [
    "from tabulate import tabulate\n",
    "\n",
    "data = [\n",
    "    [\"Alice\", 25, \"New York\"],\n",
    "    [\"Bob\", 30, \"London\"],\n",
    "    [\"Charlie\", 22, \"Paris\"]\n",
    "]\n",
    "\n",
    "headers = [\"Name\", \"Age\", \"City\"]\n",
    "\n",
    "table = tabulate(data, headers=headers, tablefmt=\"grid\")  # You can choose different table formats\n",
    "\n",
    "print(table)"
   ]
  },
  {
   "cell_type": "code",
   "execution_count": null,
   "metadata": {},
   "outputs": [
    {
     "ename": "",
     "evalue": "",
     "output_type": "error",
     "traceback": [
      "\u001b[1;31mFailed to connect to the remote Jupyter Server 'http://localhost:8888/'. Verify the server is running and reachable. ('_xsrf' argument missing from POST)."
     ]
    }
   ],
   "source": [
    "help('modules')"
   ]
  },
  {
   "cell_type": "code",
   "execution_count": 4,
   "metadata": {},
   "outputs": [],
   "source": [
    "# spark session and launch default SPARK UI to monitor with default port 4040\n",
    "# http://localhost:4040/jobs/\n",
    "from pyspark.sql import SparkSession\n",
    "from concurrent.futures import ThreadPoolExecutor, as_completed\n",
    "\n",
    "spark = SparkSession.builder \\\n",
    "    .master(\"local\") \\\n",
    "        .appName(\"Spark-SQL\") \\\n",
    "            .config(\"spark.executor.memory\",\"4g\") \\\n",
    "            .config(\"spark.sql.shuffle.partitions\",\"6\") \\\n",
    "            .getOrCreate()"
   ]
  },
  {
   "cell_type": "code",
   "execution_count": 5,
   "metadata": {},
   "outputs": [],
   "source": [
    "def read_and_query(file_path, table_name):\n",
    "\n",
    "    # Read the CSV file into a DataFrame\n",
    "    df = spark.read.csv(file_path, header=True, inferSchema=True, sep=\"|\") # inferschema is a function to automatically find datatype of source file itself\n",
    "\n",
    "    # Register the DataFrame as a temporary view\n",
    "    df.createOrReplaceTempView(table_name)\n",
    "    \n",
    "    # Use Spark SQL to query the DataFrame\n",
    "    result = spark.sql(f\"SELECT * FROM {table_name}\")\n",
    "    return result"
   ]
  },
  {
   "cell_type": "code",
   "execution_count": 16,
   "metadata": {},
   "outputs": [],
   "source": [
    "import pandas as pd\n",
    "import os\n",
    "\n",
    "current_directory = os.getcwd()  # Get the current working directory\n",
    "print(current_directory)\n",
    "\n",
    "path = \"./File/Config.csv\"\n",
    "\n",
    "#function csv to tuples [(a,a),(b,b)] here using lambda x:x for x in x\n",
    "def read_csv_as_tuples(path):\n",
    "    df = pd.read_csv(path, header=0, sep=\"|\")\n",
    "    list_of_tuples = [tuple(row) for row in df.values]\n",
    "    return list_of_tuples\n",
    "\n",
    "#function normal df for iteration using iterrows\n",
    "def read_csv(path):\n",
    "    df = pd.read_csv(path, header=0, sep=\"|\")\n",
    "    return df"
   ]
  },
  {
   "cell_type": "code",
   "execution_count": null,
   "metadata": {},
   "outputs": [],
   "source": [
    "# read from root path by using ../\n",
    "files_and_tables = read_csv_as_tuples(path)\n",
    "\n",
    "# Use ThreadPoolExecutor to run tasks in parallel\n",
    "with ThreadPoolExecutor() as executor:\n",
    "    futures = [executor.submit(read_and_query, file, table) for file, table in files_and_tables]\n",
    "    \n",
    "    # Wait for all tasks to complete\n",
    "    for future in as_completed(futures):\n",
    "        future.result()"
   ]
  },
  {
   "cell_type": "code",
   "execution_count": null,
   "metadata": {},
   "outputs": [],
   "source": [
    "result = spark.sql(\"\"\"\n",
    "                   SELECT A.Id AS Id_A, B.Id AS Id_B\n",
    "                    FROM DQC A\n",
    "                    LEFT JOIN DQC2 B ON A.Id = B.Id\n",
    "                    \"\"\")\n",
    "    \n",
    "# Show the result|\n",
    "result.show(n=50)"
   ]
  },
  {
   "cell_type": "code",
   "execution_count": null,
   "metadata": {},
   "outputs": [],
   "source": [
    "single_path = \"argument_jobs.py\"\n",
    "absolute_single_path = os.path.abspath(single_path)\n",
    "\n",
    "print(absolute_single_path)"
   ]
  },
  {
   "cell_type": "code",
   "execution_count": 14,
   "metadata": {},
   "outputs": [
    {
     "name": "stdout",
     "output_type": "stream",
     "text": [
      "2025-01-01\n"
     ]
    }
   ],
   "source": [
    "batchdate = None\n",
    "\n",
    "Getbatchdate = lambda: \"2025-01-01\" if batchdate is None else batchdate\n",
    "Getbatchdate()\n",
    "print(Getbatchdate())"
   ]
  },
  {
   "cell_type": "code",
   "execution_count": 41,
   "metadata": {},
   "outputs": [
    {
     "name": "stdout",
     "output_type": "stream",
     "text": [
      "   id\n",
      "0   1\n",
      "2   3\n",
      "3   4\n",
      "4   5\n",
      "(1, 1, 9, 16, 25)\n"
     ]
    }
   ],
   "source": [
    "import pandas as pd\n",
    "\n",
    "math = (1,1,3,4,5)\n",
    "columns = [\"id\"]\n",
    "\n",
    "df = pd.DataFrame(math,columns=columns)\n",
    "df = df.drop_duplicates()\n",
    "print(df)\n",
    "\n",
    "\n",
    "lamda_func = tuple(map(lambda x: x * x,math))\n",
    "print(lamda_func)"
   ]
  },
  {
   "cell_type": "code",
   "execution_count": null,
   "metadata": {},
   "outputs": [],
   "source": []
  }
 ],
 "metadata": {
  "kernelspec": {
   "display_name": "Python 3 (ipykernel)",
   "language": "python",
   "name": "python3"
  },
  "language_info": {
   "codemirror_mode": {
    "name": "ipython",
    "version": 3
   },
   "file_extension": ".py",
   "mimetype": "text/x-python",
   "name": "python",
   "nbconvert_exporter": "python",
   "pygments_lexer": "ipython3",
   "version": "3.12.8"
  }
 },
 "nbformat": 4,
 "nbformat_minor": 4
}
