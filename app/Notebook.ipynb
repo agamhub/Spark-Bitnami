{
 "cells": [
  {
   "cell_type": "code",
   "execution_count": 20,
   "metadata": {},
   "outputs": [
    {
     "name": "stderr",
     "output_type": "stream",
     "text": [
      "                                                                                \r"
     ]
    },
    {
     "name": "stdout",
     "output_type": "stream",
     "text": [
      "+---+------+\n",
      "| Id|  Name|\n",
      "+---+------+\n",
      "|  1|  Agam|\n",
      "|  2|Lorita|\n",
      "+---+------+\n",
      "\n"
     ]
    }
   ],
   "source": [
    "import sys\n",
    "from random import random\n",
    "from operator import add\n",
    " \n",
    "from pyspark.sql import SparkSession\n",
    " \n",
    "if __name__ == \"__main__\":\n",
    "    \"\"\"\n",
    "        Usage: pi [partitions]\n",
    "    \"\"\"\n",
    "    spark = SparkSession\\\n",
    "        .builder\\\n",
    "        .appName(\"PythonPi\")\\\n",
    "        .getOrCreate()\n",
    " \n",
    "    data = [\n",
    "        (1,\"Agam\"),\n",
    "        (2,\"Lorita\")\n",
    "    ]\n",
    "\n",
    "    columns = [\"Id\",\"Name\"]\n",
    "\n",
    "    # Create DataFrame\n",
    "    df = spark.createDataFrame(data, columns)\n",
    "    df.show()\n",
    "    \n",
    "    spark.stop()"
   ]
  },
  {
   "cell_type": "code",
   "execution_count": 21,
   "metadata": {},
   "outputs": [
    {
     "name": "stdout",
     "output_type": "stream",
     "text": [
      "      name   age\n",
      "0    Alice  25.0\n",
      "1      Bob  30.0\n",
      "2  Charlie  35.0\n"
     ]
    },
    {
     "name": "stderr",
     "output_type": "stream",
     "text": [
      "/tmp/ipykernel_25/3934933665.py:11: FutureWarning: Passing literal json to 'read_json' is deprecated and will be removed in a future version. To read from a literal string, wrap it in a 'StringIO' object.\n",
      "  df = pd.read_json(json_data, orient='records', dtype={'age': 'float64'})\n"
     ]
    }
   ],
   "source": [
    "import pandas as pd\n",
    "\n",
    "json_data = '''\n",
    "[\n",
    "    {\"name\": \"Alice\", \"age\": 25},\n",
    "    {\"name\": \"Bob\", \"age\": 30},\n",
    "    {\"name\": \"Charlie\", \"age\": 35}\n",
    "]\n",
    "'''\n",
    "\n",
    "df = pd.read_json(json_data, orient='records', dtype={'age': 'float64'})\n",
    "print(df)"
   ]
  }
 ],
 "metadata": {
  "kernelspec": {
   "display_name": "Python 3 (ipykernel)",
   "language": "python",
   "name": "python3"
  },
  "language_info": {
   "codemirror_mode": {
    "name": "ipython",
    "version": 3
   },
   "file_extension": ".py",
   "mimetype": "text/x-python",
   "name": "python",
   "nbconvert_exporter": "python",
   "pygments_lexer": "ipython3",
   "version": "3.12.8"
  }
 },
 "nbformat": 4,
 "nbformat_minor": 4
}
