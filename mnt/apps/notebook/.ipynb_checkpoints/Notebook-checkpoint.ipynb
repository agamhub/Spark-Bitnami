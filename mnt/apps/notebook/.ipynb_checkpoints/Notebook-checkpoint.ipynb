{
 "cells": [
  {
   "cell_type": "code",
   "execution_count": 32,
   "metadata": {},
   "outputs": [
    {
     "ename": "AttributeError",
     "evalue": "'DataFrame' object has no attribute 'display'",
     "output_type": "error",
     "traceback": [
      "\u001b[31m---------------------------------------------------------------------------\u001b[39m",
      "\u001b[31mAttributeError\u001b[39m                            Traceback (most recent call last)",
      "\u001b[36mCell\u001b[39m\u001b[36m \u001b[39m\u001b[32mIn[32]\u001b[39m\u001b[32m, line 26\u001b[39m\n\u001b[32m     24\u001b[39m \u001b[38;5;66;03m# Create DataFrame\u001b[39;00m\n\u001b[32m     25\u001b[39m df = spark.createDataFrame(data, columns)\n\u001b[32m---> \u001b[39m\u001b[32m26\u001b[39m \u001b[43mdf\u001b[49m\u001b[43m.\u001b[49m\u001b[43mdisplay\u001b[49m()\n\u001b[32m     28\u001b[39m spark.stop()\n",
      "\u001b[36mFile \u001b[39m\u001b[32m~opt/bitnami/spark/python/pyspark/sql/dataframe.py:3129\u001b[39m, in \u001b[36mDataFrame.__getattr__\u001b[39m\u001b[34m(self, name)\u001b[39m\n\u001b[32m   3096\u001b[39m \u001b[38;5;250m\u001b[39m\u001b[33;03m\"\"\"Returns the :class:`Column` denoted by ``name``.\u001b[39;00m\n\u001b[32m   3097\u001b[39m \n\u001b[32m   3098\u001b[39m \u001b[33;03m.. versionadded:: 1.3.0\u001b[39;00m\n\u001b[32m   (...)\u001b[39m\u001b[32m   3126\u001b[39m \u001b[33;03m+---+\u001b[39;00m\n\u001b[32m   3127\u001b[39m \u001b[33;03m\"\"\"\u001b[39;00m\n\u001b[32m   3128\u001b[39m \u001b[38;5;28;01mif\u001b[39;00m name \u001b[38;5;129;01mnot\u001b[39;00m \u001b[38;5;129;01min\u001b[39;00m \u001b[38;5;28mself\u001b[39m.columns:\n\u001b[32m-> \u001b[39m\u001b[32m3129\u001b[39m     \u001b[38;5;28;01mraise\u001b[39;00m \u001b[38;5;167;01mAttributeError\u001b[39;00m(\n\u001b[32m   3130\u001b[39m         \u001b[33m\"\u001b[39m\u001b[33m'\u001b[39m\u001b[38;5;132;01m%s\u001b[39;00m\u001b[33m'\u001b[39m\u001b[33m object has no attribute \u001b[39m\u001b[33m'\u001b[39m\u001b[38;5;132;01m%s\u001b[39;00m\u001b[33m'\u001b[39m\u001b[33m\"\u001b[39m % (\u001b[38;5;28mself\u001b[39m.\u001b[34m__class__\u001b[39m.\u001b[34m__name__\u001b[39m, name)\n\u001b[32m   3131\u001b[39m     )\n\u001b[32m   3132\u001b[39m jc = \u001b[38;5;28mself\u001b[39m._jdf.apply(name)\n\u001b[32m   3133\u001b[39m \u001b[38;5;28;01mreturn\u001b[39;00m Column(jc)\n",
      "\u001b[31mAttributeError\u001b[39m: 'DataFrame' object has no attribute 'display'"
     ]
    }
   ],
   "source": [
    "import sys\n",
    "from random import random\n",
    "from operator import add\n",
    " \n",
    "from pyspark.sql import SparkSession\n",
    "from pyspark.sql.functions import *\n",
    " \n",
    "if __name__ == \"__main__\":\n",
    "    \"\"\"\n",
    "        Usage: pi [partitions]\n",
    "    \"\"\"\n",
    "    spark = SparkSession\\\n",
    "        .builder\\\n",
    "        .appName(\"PythonPi\")\\\n",
    "        .getOrCreate()\n",
    " \n",
    "    data = [\n",
    "        (1,\"Agam\"),\n",
    "        (2,\"Lorita\")\n",
    "    ]\n",
    "\n",
    "    columns = [\"Id\",\"Name\"]\n",
    "\n",
    "    # Create DataFrame\n",
    "    df = spark.createDataFrame(data, columns)\n",
    "    df.display()\n",
    "    \n",
    "    spark.stop()"
   ]
  },
  {
   "cell_type": "code",
   "execution_count": 34,
   "metadata": {},
   "outputs": [
    {
     "data": {
      "text/html": [
       "\n",
       "            <div>\n",
       "                <p><b>SparkSession - in-memory</b></p>\n",
       "                \n",
       "        <div>\n",
       "            <p><b>SparkContext</b></p>\n",
       "\n",
       "            <p><a href=\"http://391f994f2bc8:4040\">Spark UI</a></p>\n",
       "\n",
       "            <dl>\n",
       "              <dt>Version</dt>\n",
       "                <dd><code>v3.5.4</code></dd>\n",
       "              <dt>Master</dt>\n",
       "                <dd><code>local[*]</code></dd>\n",
       "              <dt>AppName</dt>\n",
       "                <dd><code>PythonPi</code></dd>\n",
       "            </dl>\n",
       "        </div>\n",
       "        \n",
       "            </div>\n",
       "        "
      ],
      "text/plain": [
       "<pyspark.sql.session.SparkSession at 0x7f1b2f945130>"
      ]
     },
     "execution_count": 34,
     "metadata": {},
     "output_type": "execute_result"
    }
   ],
   "source": [
    "spark"
   ]
  },
  {
   "cell_type": "code",
   "execution_count": null,
   "metadata": {},
   "outputs": [],
   "source": [
    "import pandas as pd\n",
    "\n",
    "json_data = '''\n",
    "[\n",
    "    {\"name\": \"Alice\", \"age\": 25},\n",
    "    {\"name\": \"Bob\", \"age\": 30},\n",
    "    {\"name\": \"Charlie\", \"age\": 35}\n",
    "]\n",
    "'''\n",
    "\n",
    "df = pd.read_json(json_data, orient='records', dtype={'age': 'float64'})\n",
    "print(df)"
   ]
  },
  {
   "cell_type": "code",
   "execution_count": 7,
   "metadata": {},
   "outputs": [
    {
     "name": "stdout",
     "output_type": "stream",
     "text": [
      "Collecting tabulate\n",
      "  Downloading tabulate-0.9.0-py3-none-any.whl.metadata (34 kB)\n",
      "Downloading tabulate-0.9.0-py3-none-any.whl (35 kB)\n",
      "Installing collected packages: tabulate\n",
      "Successfully installed tabulate-0.9.0\n",
      "+---------+-------+----------+\n",
      "| Name    |   Age | City     |\n",
      "+=========+=======+==========+\n",
      "| Alice   |    25 | New York |\n",
      "+---------+-------+----------+\n",
      "| Bob     |    30 | London   |\n",
      "+---------+-------+----------+\n",
      "| Charlie |    22 | Paris    |\n",
      "+---------+-------+----------+\n"
     ]
    }
   ],
   "source": [
    "!pip install tabulate\n",
    "\n",
    "from tabulate import tabulate\n",
    "\n",
    "data = [\n",
    "    [\"Alice\", 25, \"New York\"],\n",
    "    [\"Bob\", 30, \"London\"],\n",
    "    [\"Charlie\", 22, \"Paris\"]\n",
    "]\n",
    "\n",
    "headers = [\"Name\", \"Age\", \"City\"]\n",
    "\n",
    "table = tabulate(data, headers=headers, tablefmt=\"grid\")  # You can choose different table formats\n",
    "\n",
    "print(table)"
   ]
  },
  {
   "cell_type": "code",
   "execution_count": null,
   "metadata": {},
   "outputs": [
    {
     "ename": "",
     "evalue": "",
     "output_type": "error",
     "traceback": [
      "\u001b[1;31mFailed to connect to the remote Jupyter Server 'http://localhost:8888/'. Verify the server is running and reachable. ('_xsrf' argument missing from POST)."
     ]
    }
   ],
   "source": [
    "help('modules')"
   ]
  },
  {
   "cell_type": "code",
   "execution_count": 4,
   "metadata": {},
   "outputs": [],
   "source": [
    "# spark session and launch default SPARK UI to monitor with default port 4040\n",
    "# http://localhost:4040/jobs/\n",
    "from pyspark.sql import SparkSession\n",
    "from concurrent.futures import ThreadPoolExecutor, as_completed\n",
    "\n",
    "spark = SparkSession.builder \\\n",
    "    .master(\"local\") \\\n",
    "        .appName(\"Spark-SQL\") \\\n",
    "            .config(\"spark.executor.memory\",\"4g\") \\\n",
    "            .config(\"spark.sql.shuffle.partitions\",\"6\") \\\n",
    "            .getOrCreate()"
   ]
  },
  {
   "cell_type": "code",
   "execution_count": 5,
   "metadata": {},
   "outputs": [],
   "source": [
    "def read_and_query(file_path, table_name):\n",
    "\n",
    "    # Read the CSV file into a DataFrame\n",
    "    df = spark.read.csv(file_path, header=True, inferSchema=True, sep=\"|\") # inferschema is a function to automatically find datatype of source file itself\n",
    "\n",
    "    # Register the DataFrame as a temporary view\n",
    "    df.createOrReplaceTempView(table_name)\n",
    "    \n",
    "    # Use Spark SQL to query the DataFrame\n",
    "    result = spark.sql(f\"SELECT * FROM {table_name}\")\n",
    "    return result"
   ]
  },
  {
   "cell_type": "code",
   "execution_count": 16,
   "metadata": {},
   "outputs": [],
   "source": [
    "import pandas as pd\n",
    "import os\n",
    "\n",
    "current_directory = os.getcwd()  # Get the current working directory\n",
    "print(current_directory)\n",
    "\n",
    "path = \"./File/Config.csv\"\n",
    "\n",
    "#function csv to tuples [(a,a),(b,b)] here using lambda x:x for x in x\n",
    "def read_csv_as_tuples(path):\n",
    "    df = pd.read_csv(path, header=0, sep=\"|\")\n",
    "    list_of_tuples = [tuple(row) for row in df.values]\n",
    "    return list_of_tuples\n",
    "\n",
    "#function normal df for iteration using iterrows\n",
    "def read_csv(path):\n",
    "    df = pd.read_csv(path, header=0, sep=\"|\")\n",
    "    return df"
   ]
  },
  {
   "cell_type": "code",
   "execution_count": null,
   "metadata": {},
   "outputs": [],
   "source": [
    "# read from root path by using ../\n",
    "files_and_tables = read_csv_as_tuples(path)\n",
    "\n",
    "# Use ThreadPoolExecutor to run tasks in parallel\n",
    "with ThreadPoolExecutor() as executor:\n",
    "    futures = [executor.submit(read_and_query, file, table) for file, table in files_and_tables]\n",
    "    \n",
    "    # Wait for all tasks to complete\n",
    "    for future in as_completed(futures):\n",
    "        future.result()"
   ]
  },
  {
   "cell_type": "code",
   "execution_count": null,
   "metadata": {},
   "outputs": [],
   "source": [
    "result = spark.sql(\"\"\"\n",
    "                   SELECT A.Id AS Id_A, B.Id AS Id_B\n",
    "                    FROM DQC A\n",
    "                    LEFT JOIN DQC2 B ON A.Id = B.Id\n",
    "                    \"\"\")\n",
    "    \n",
    "# Show the result|\n",
    "result.show(n=50)"
   ]
  },
  {
   "cell_type": "code",
   "execution_count": null,
   "metadata": {},
   "outputs": [],
   "source": [
    "single_path = \"argument_jobs.py\"\n",
    "absolute_single_path = os.path.abspath(single_path)\n",
    "\n",
    "print(absolute_single_path)"
   ]
  },
  {
   "cell_type": "code",
   "execution_count": 2,
   "metadata": {},
   "outputs": [
    {
     "name": "stdout",
     "output_type": "stream",
     "text": [
      "2025-01-01\n"
     ]
    }
   ],
   "source": [
    "batchdate = None\n",
    "\n",
    "Getbatchdate = lambda: \"2025-01-01\" if batchdate is None else batchdate\n",
    "Getbatchdate()\n",
    "print(Getbatchdate())"
   ]
  },
  {
   "cell_type": "code",
   "execution_count": 18,
   "metadata": {},
   "outputs": [
    {
     "data": {
      "text/html": [
       "<div>\n",
       "<style scoped>\n",
       "    .dataframe tbody tr th:only-of-type {\n",
       "        vertical-align: middle;\n",
       "    }\n",
       "\n",
       "    .dataframe tbody tr th {\n",
       "        vertical-align: top;\n",
       "    }\n",
       "\n",
       "    .dataframe thead th {\n",
       "        text-align: right;\n",
       "    }\n",
       "</style>\n",
       "<table border=\"1\" class=\"dataframe\">\n",
       "  <thead>\n",
       "    <tr style=\"text-align: right;\">\n",
       "      <th></th>\n",
       "      <th>id</th>\n",
       "    </tr>\n",
       "  </thead>\n",
       "  <tbody>\n",
       "    <tr>\n",
       "      <th>0</th>\n",
       "      <td>1</td>\n",
       "    </tr>\n",
       "    <tr>\n",
       "      <th>2</th>\n",
       "      <td>3</td>\n",
       "    </tr>\n",
       "    <tr>\n",
       "      <th>3</th>\n",
       "      <td>4</td>\n",
       "    </tr>\n",
       "    <tr>\n",
       "      <th>4</th>\n",
       "      <td>5</td>\n",
       "    </tr>\n",
       "  </tbody>\n",
       "</table>\n",
       "</div>"
      ],
      "text/plain": [
       "   id\n",
       "0   1\n",
       "2   3\n",
       "3   4\n",
       "4   5"
      ]
     },
     "execution_count": 18,
     "metadata": {},
     "output_type": "execute_result"
    }
   ],
   "source": [
    "import pandas as pd\n",
    "\n",
    "math = (1,1,3,4,5)\n",
    "columns = [\"id\"]\n",
    "\n",
    "df = pd.DataFrame(math,columns=columns)\n",
    "df = df.drop_duplicates()\n",
    "df.head()\n",
    "\n",
    "#lamda_func = max(tuple(map(lambda x: x * x,math)))\n",
    "#print(lamda_func)"
   ]
  },
  {
   "cell_type": "code",
   "execution_count": null,
   "metadata": {},
   "outputs": [],
   "source": [
    "columns_to_clone = max(50, 100)\n",
    "\n",
    "print(columns_to_clone)\n",
    "\n",
    "list_of = []\n",
    "for i in range(240):\n",
    "    list_of.append(f\"Cloned_{i + 1}|Varchar(100)\")\n",
    "   \n",
    "df = pd.DataFrame(list_of, columns=[\"ColumnName\"])\n",
    "df.head(n=250)\n",
    "\n",
    "df.to_csv(\"/mnt/apps/Files/NewSChema/new_schema_cust.csv\",header=True, index=False)"
   ]
  },
  {
   "cell_type": "code",
   "execution_count": null,
   "metadata": {},
   "outputs": [
    {
     "name": "stdout",
     "output_type": "stream",
     "text": [
      "/mnt/apps/gcs/data-movement/Parquet/ACVMFPF/part*\n",
      "/mnt/apps/gcs/data-movement/Parquet/ACVMFPF\n"
     ]
    }
   ],
   "source": [
    "parquetOutput = \"/mnt/apps/gcs/data-movement/Parquet/ACVMFPF/part*\"\n",
    "p = parquetOutput.replace(\"/part*\",\"\")\n",
    "print(parquetOutput)\n",
    "print(p)\n",
    "\n"
   ]
  },
  {
   "cell_type": "code",
   "execution_count": 3,
   "metadata": {},
   "outputs": [
    {
     "name": "stdout",
     "output_type": "stream",
     "text": [
      "ACMVPF\n"
     ]
    }
   ],
   "source": [
    "path = \"mnt/apps/Files/ETL4/ACMVPF/ACMVPF.csv\"\n",
    "s = path.split(\"/\")[4]\n",
    "print(s)"
   ]
  },
  {
   "cell_type": "code",
   "execution_count": 1,
   "metadata": {},
   "outputs": [
    {
     "name": "stdout",
     "output_type": "stream",
     "text": [
      "/mnt/apps/gcs/data-movement/Parquet/\n"
     ]
    }
   ],
   "source": [
    "parquetOutput = \"/mnt/apps/gcs/data-movement/Parquet/\"\n",
    "\n",
    "print(parquetOutput)"
   ]
  },
  {
   "cell_type": "code",
   "execution_count": 2,
   "metadata": {},
   "outputs": [
    {
     "name": "stdout",
     "output_type": "stream",
     "text": [
      "Failed\n"
     ]
    }
   ],
   "source": [
    "count = 1\n",
    "\n",
    "status = \"Failed\" if count != 0 else \"Successful\"\n",
    "\n",
    "print(status)"
   ]
  },
  {
   "cell_type": "code",
   "execution_count": 1,
   "metadata": {},
   "outputs": [
    {
     "name": "stdout",
     "output_type": "stream",
     "text": [
      "ZiUAGHAyxrnRJ_88HCnpJMXGGJTUUz5Dt225mDDnC5o\n"
     ]
    }
   ],
   "source": [
    "import secrets\n",
    "print(secrets.token_urlsafe(32))"
   ]
  },
  {
   "cell_type": "code",
   "execution_count": 8,
   "metadata": {},
   "outputs": [
    {
     "name": "stdout",
     "output_type": "stream",
     "text": [
      "Headers are in a different order:\n",
      "[\"Position 2: CSV has 'First Name', Schema has 'Last Name'\", \"Position 3: CSV has 'Last Name', Schema has 'First Name'\", \"Position 4: CSV has 'Budgett', Schema has 'Budget'\"]\n"
     ]
    }
   ],
   "source": [
    "import csv\n",
    "\n",
    "def print_different_headers(csv_headers, schema_headers):\n",
    "    \"\"\"\n",
    "    Prints the headers that are in a different order between two lists.\n",
    "\n",
    "    Args:\n",
    "        csv_headers (list): A list of header names from a CSV file.\n",
    "        schema_headers (list): A list of header names from a schema.\n",
    "    \"\"\"\n",
    "    msg = []\n",
    "    if csv_headers == schema_headers:\n",
    "        print(\"Headers are in the same order.\")\n",
    "        return\n",
    "\n",
    "    print(\"Headers are in a different order:\")\n",
    "    for i, (csv_header, schema_header) in enumerate(zip(csv_headers, schema_headers)):\n",
    "        if csv_header != schema_header:\n",
    "            msg.append(f\"Position {i+1}: CSV has '{csv_header}', Schema has '{schema_header}'\")\n",
    "    print(msg)\n",
    "\n",
    "# Example usage with your provided headers:\n",
    "csv_headers = [\"Id\", \"First Name\", \"Last Name\", \"Budgett\"]\n",
    "schema_headers = [\"Id\", \"Last Name\", \"First Name\", \"Budget\"]\n",
    "print_different_headers(csv_headers, schema_headers)"
   ]
  },
  {
   "cell_type": "code",
   "execution_count": 29,
   "metadata": {},
   "outputs": [
    {
     "name": "stdout",
     "output_type": "stream",
     "text": [
      "Original Data (head):\n",
      " +---+---------------+----------+-----------------------------------------------------------------------------------------------------------------------------------------------------------------------------------------------------------------------------------------------------+-----+-----------------+----+\n",
      "|   |   BatchName   |  DqcId   |                                                                                                                       Scripts                                                                                                                       | Run |    RefTable     | SP |\n",
      "+---+---------------+----------+-----------------------------------------------------------------------------------------------------------------------------------------------------------------------------------------------------------------------------------------------------+-----+-----------------+----+\n",
      "| 0 | BATCH_ACT_VAL | DQ000003 |                                                                                    SELECT COUNT(1) CNT FROM PEOPLEPF UNION ALL SELECT COUNT(1) CNT FROM PEOPLEPF                                                                                    |  1  | [ACMVPF,GENLPF] | 0  |\n",
      "| 2 | BATCH_ACT_VAL | DQ000005 | SELECT COUNT(1) CNT FROM PEOPLEPF WHERE YEAR(`Date of birth`) IN ('1992','1993','1995','2021') UNION ALL SELECT COUNT(1) CNT FROM PEOPLEPF WHERE YEAR(`Date of birth`) IN ('1992','1993','1995','2021') UNION ALL SELECT COUNT(1) CNT FROM PEOPLEPF |  1  |       nan       | 0  |\n",
      "+---+---------------+----------+-----------------------------------------------------------------------------------------------------------------------------------------------------------------------------------------------------------------------------------------------------+-----+-----------------+----+\n",
      "Search with table name to job master config as lookup\n",
      "\n",
      "Combined Data (before expansion, head):\n",
      " +---+---------------+---------+---------------+---------------+---------------------------+----------+----------+------+-----------+-----------+-------------+----------+\n",
      "|   |   BatchName   | JobName |  BatchName_x  |  BatchName_y  |      SourceDirectory      | FileName | FileType | Flag | Delimiter | Backdated | Refreshment | Reformat |\n",
      "+---+---------------+---------+---------------+---------------+---------------------------+----------+----------+------+-----------+-----------+-------------+----------+\n",
      "| 0 | BATCH_ACT_VAL | GENLPF  |      nan      |      nan      |            nan            |   nan    |   nan    | nan  |    nan    |    nan    |     nan     |   nan    |\n",
      "| 1 |      nan      | ACMVPF  | BATCH_ACT_VAL |  BATCH_RTNPF  | /mnt/apps/gcs/ETL4/ACMVPF |  ACMVPF  |   csv    | 1.0  |     |     |    nan    |     nan     |   nan    |\n",
      "| 2 |      nan      | GENLPF  | BATCH_ACT_VAL | BATCH_ACT_VAL | /mnt/apps/gcs/ETL4/GENLPF |  GENLPF  |   csv    | 1.0  |     |     |    nan    |     nan     |   nan    |\n",
      "+---+---------------+---------+---------------+---------------+---------------------------+----------+----------+------+-----------+-----------+-------------+----------+\n"
     ]
    },
    {
     "ename": "AttributeError",
     "evalue": "'DataFrame' object has no attribute 'display'",
     "output_type": "error",
     "traceback": [
      "\u001b[31m---------------------------------------------------------------------------\u001b[39m",
      "\u001b[31mAttributeError\u001b[39m                            Traceback (most recent call last)",
      "\u001b[32m~tmp/ipykernel_375/2712999629.py\u001b[39m in \u001b[36m?\u001b[39m\u001b[34m()\u001b[39m\n\u001b[32m     70\u001b[39m     Path = \u001b[33m\"/mnt/apps/Files/Config/DataQuality_Config.csv\"\u001b[39m\n\u001b[32m     71\u001b[39m     getDf, df = getTables(path=Path, LoadPath=LoadPath, batchname=batchname) \u001b[38;5;66;03m# Pass batchname here\u001b[39;00m\n\u001b[32m     72\u001b[39m \n\u001b[32m     73\u001b[39m     \u001b[38;5;28;01mif\u001b[39;00m getDf \u001b[38;5;28;01mis\u001b[39;00m \u001b[38;5;28;01mnot\u001b[39;00m \u001b[38;5;28;01mNone\u001b[39;00m:\n\u001b[32m---> \u001b[39m\u001b[32m74\u001b[39m         getDf.display()\n\u001b[32m     75\u001b[39m         \u001b[38;5;66;03m#print(\"\\nFinal Expanded DataFrame (head):\\n\", tabulate(getDf.head(), headers='keys', tablefmt='pretty'))\u001b[39;00m\n",
      "\u001b[32m~opt/bitnami/python/lib/python3.12/site-packages/pandas/core/generic.py\u001b[39m in \u001b[36m?\u001b[39m\u001b[34m(self, name)\u001b[39m\n\u001b[32m   6295\u001b[39m             \u001b[38;5;28;01mand\u001b[39;00m name \u001b[38;5;28;01mnot\u001b[39;00m \u001b[38;5;28;01min\u001b[39;00m self._accessors\n\u001b[32m   6296\u001b[39m             \u001b[38;5;28;01mand\u001b[39;00m self._info_axis._can_hold_identifiers_and_holds_name(name)\n\u001b[32m   6297\u001b[39m         ):\n\u001b[32m   6298\u001b[39m             \u001b[38;5;28;01mreturn\u001b[39;00m self[name]\n\u001b[32m-> \u001b[39m\u001b[32m6299\u001b[39m         \u001b[38;5;28;01mreturn\u001b[39;00m object.__getattribute__(self, name)\n",
      "\u001b[31mAttributeError\u001b[39m: 'DataFrame' object has no attribute 'display'"
     ]
    }
   ],
   "source": [
    "import pandas as pd\n",
    "from tabulate import tabulate\n",
    "\n",
    "def pandas_read_csv(file_path, **options):\n",
    "    \"\"\"\n",
    "        Read small volume of data only using read.csv\n",
    "        Args:\n",
    "            **Options ----> Any\n",
    "    \"\"\"\n",
    "    try:\n",
    "        df = pd.read_csv(file_path, **options)\n",
    "        return df\n",
    "    except FileNotFoundError:\n",
    "        print(f\"Error: File not found at path: {file_path}\")\n",
    "        return None\n",
    "    except Exception as e:  # Catch other potential exceptions (e.g., parsing errors)\n",
    "        print(f\"An error occurred while reading the CSV: {e}\")\n",
    "        return None\n",
    "\n",
    "def getTables(**kwargs):\n",
    "    batchname = kwargs.get(\"batchname\")\n",
    "    if not batchname:\n",
    "        print(\"Error: 'batchname' not provided in kwargs.\")\n",
    "        return None, None\n",
    "\n",
    "    df = pandas_read_csv(kwargs[\"path\"], sep=\"|\")\n",
    "    if df is None:\n",
    "        return None, None\n",
    "    df = df.query(f\"BatchName == '{batchname}' & Run == 1\")\n",
    "    print(\"Original Data (head):\\n\", tabulate(df.head(), headers='keys', tablefmt='pretty'))\n",
    "\n",
    "    df_refTable = df.query(\"RefTable.notnull()\")\n",
    "    distinct_reftable = df_refTable[[\"BatchName\",\"RefTable\"]].drop_duplicates().rename(columns={\"RefTable\": \"JobName\"})\n",
    "\n",
    "    df_job = pandas_read_csv(kwargs[\"LoadPath\"], sep=\"|\")\n",
    "    \n",
    "    if df_job is None:\n",
    "        return None, None\n",
    "    if distinct_reftable[\"JobName\"] is not None:\n",
    "        #print(\"Search with table name to job master config as lookup\")\n",
    "        def expand_job_names(row):\n",
    "            job_name = row['JobName']\n",
    "            if isinstance(job_name, str) and job_name.startswith('[') and job_name.endswith(']'):\n",
    "                # Remove the brackets and split by comma\n",
    "                cleaned_job_string = job_name[1:-1]\n",
    "                job_list = [item.strip() for item in cleaned_job_string.split(',')]\n",
    "                return pd.Series([row['BatchName'], job_list])\n",
    "            else:\n",
    "                return pd.Series([row['BatchName'], job_name])\n",
    "                \n",
    "        print(\"Search with table name to job master config as lookup\")\n",
    "        exploded_df = distinct_reftable.apply(expand_job_names, axis=1).explode(1).rename(columns={0: 'BatchName', 1: 'JobName'})\n",
    "        merged_df_table_ref = pd.merge(exploded_df, df_job, on=\"JobName\", how=\"inner\")\n",
    "        merged_df_table_ref = merged_df_table_ref.drop_duplicates()\n",
    "        #print(merged_df_table_ref.head())\n",
    "\n",
    "    df_job = df_job[[\"BatchName\",\"JobName\"]].query(f\"BatchName == '{batchname}'\")\n",
    "    joined_df = pd.concat([df_job, merged_df_table_ref], ignore_index=True).drop_duplicates()\n",
    "    print(\"\\nCombined Data (before expansion, head):\\n\", tabulate(joined_df.head(), headers='keys', tablefmt='pretty'))\n",
    "\n",
    "\n",
    "    # print(\"\\nExpanded Job Names (head):\\n\", tabulate(exploded_df.head(), headers='keys', tablefmt='pretty'))\n",
    "\n",
    "    return merged_df_table_ref ,df\n",
    "\n",
    "if __name__ == \"__main__\":\n",
    "    batchname = \"BATCH_ACT_VAL\"\n",
    "\n",
    "    LoadPath = \"/mnt/apps/Files/Config/master_job.csv\"\n",
    "    Path = \"/mnt/apps/Files/Config/DataQuality_Config.csv\"\n",
    "    getDf, df = getTables(path=Path, LoadPath=LoadPath, batchname=batchname) # Pass batchname here\n",
    "\n",
    "    if getDf is not None:\n",
    "        print(\"\\nFinal Expanded DataFrame (head):\\n\", tabulate(getDf.head(), headers='keys', tablefmt='pretty'))"
   ]
  },
  {
   "cell_type": "code",
   "execution_count": null,
   "metadata": {},
   "outputs": [],
   "source": []
  }
 ],
 "metadata": {
  "kernelspec": {
   "display_name": "Python 3 (ipykernel)",
   "language": "python",
   "name": "python3"
  },
  "language_info": {
   "codemirror_mode": {
    "name": "ipython",
    "version": 3
   },
   "file_extension": ".py",
   "mimetype": "text/x-python",
   "name": "python",
   "nbconvert_exporter": "python",
   "pygments_lexer": "ipython3",
   "version": "3.12.9"
  }
 },
 "nbformat": 4,
 "nbformat_minor": 4
}
