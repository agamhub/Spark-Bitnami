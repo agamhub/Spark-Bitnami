{
 "cells": [
  {
   "cell_type": "code",
   "execution_count": 9,
   "id": "dbcb7747-6899-4ce1-a272-1d6ac4a30d41",
   "metadata": {},
   "outputs": [
    {
     "name": "stdout",
     "output_type": "stream",
     "text": [
      "+-------------------+--------+---------+\n",
      "|           NAV_DATE|     AMT|FUND_CODE|\n",
      "+-------------------+--------+---------+\n",
      "|2025-08-01 00:00:00|500000.0|     PSMA|\n",
      "|2025-08-02 00:00:00|200000.0|     PSMA|\n",
      "+-------------------+--------+---------+\n",
      "\n",
      "['PSMA', 'PSAE']\n"
     ]
    }
   ],
   "source": [
    "import openpyxl\n",
    "from pyspark.sql import SparkSession\n",
    "from pyspark.sql.types import StructType, StructField, StringType, DoubleType, TimestampType\n",
    "\n",
    "file_path = \"/mnt/apps/Files/Excel/Rebate Fee.xlsx\"\n",
    "\n",
    "# Use openpyxl to get sheet names\n",
    "workbook = openpyxl.load_workbook(file_path, read_only=True)\n",
    "sheet_names = workbook.sheetnames\n",
    "workbook.close()\n",
    "\n",
    "# Initialize Spark Session (if not already done)\n",
    "spark = SparkSession.builder \\\n",
    "    .appName(\"ReadAllSheets\") \\\n",
    "    .config(\"spark.jars\", \"/opt/bitnami/spark/jars/spark-excel_2.12-3.5.1_0.20.4.jar\") \\\n",
    "    .getOrCreate()\n",
    "\n",
    "schema = StructType([\n",
    "    StructField(\"NAV_DATE\", TimestampType(), True),\n",
    "    StructField(\"AMT\", DoubleType(), True),\n",
    "    StructField(\"FUND_CODE\", StringType(), True)\n",
    "])\n",
    "\n",
    "final_df = spark.createDataFrame([], schema)\n",
    "\n",
    "# Loop through each sheet name and read it into a DataFrame\n",
    "# for sheet_name in sheet_names:\n",
    "#     print(f\"Reading sheet: {sheet_name}\")\n",
    "df = spark.read.format(\"com.crealytics.spark.excel\") \\\n",
    "    .option(\"header\", \"true\") \\\n",
    "    .option(\"inferSchema\", \"true\") \\\n",
    "    .option(\"sheetName\", \"PSAE\") \\\n",
    "    .load(file_path)\n",
    "\n",
    "final_df = final_df.union(df)\n",
    "# df.printSchema()\n",
    "df.show()\n",
    "    \n",
    "# final_df.show()\n",
    "\n",
    "print(sheet_names)"
   ]
  },
  {
   "cell_type": "code",
   "execution_count": null,
   "id": "0e538f3a-bab6-4dfa-ba60-1d8c18edfc39",
   "metadata": {},
   "outputs": [],
   "source": []
  }
 ],
 "metadata": {
  "kernelspec": {
   "display_name": "Python 3 (ipykernel)",
   "language": "python",
   "name": "python3"
  },
  "language_info": {
   "codemirror_mode": {
    "name": "ipython",
    "version": 3
   },
   "file_extension": ".py",
   "mimetype": "text/x-python",
   "name": "python",
   "nbconvert_exporter": "python",
   "pygments_lexer": "ipython3",
   "version": "3.12.9"
  }
 },
 "nbformat": 4,
 "nbformat_minor": 5
}
